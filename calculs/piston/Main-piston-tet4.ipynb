{
 "cells": [
  {
   "cell_type": "markdown",
   "metadata": {},
   "source": [
    "\n",
    "**Import libraries**"
   ]
  },
  {
   "cell_type": "code",
   "execution_count": 9,
   "metadata": {},
   "outputs": [],
   "source": [
    "import string; import time; import scipy\n",
    "import scipy.sparse\n",
    "import scipy.sparse.linalg"
   ]
  },
  {
   "cell_type": "code",
   "execution_count": 10,
   "metadata": {},
   "outputs": [],
   "source": [
    "import sys\n",
    "sys.path.append('../../librairies')"
   ]
  },
  {
   "cell_type": "markdown",
   "metadata": {},
   "source": [
    " Choose between the Fortran or the Python librairie:"
   ]
  },
  {
   "cell_type": "code",
   "execution_count": 11,
   "metadata": {},
   "outputs": [],
   "source": [
    "#import silex_lib_tet4_fortran as silex_lib_elt\n",
    "import silex_lib_tet4_python as silex_lib_elt\n",
    "import silex_lib_gmsh"
   ]
  },
  {
   "cell_type": "markdown",
   "metadata": {},
   "source": [
    "install mumps to solve the system more quickly or use petsc"
   ]
  },
  {
   "cell_type": "code",
   "execution_count": 2,
   "metadata": {},
   "outputs": [
    {
     "ename": "ImportError",
     "evalue": "/opt/conda/lib/python3.9/site-packages/mumps/_dmumps.cpython-39-x86_64-linux-gnu.so: undefined symbol: mpi_reduce_",
     "output_type": "error",
     "traceback": [
      "\u001b[0;31m---------------------------------------------------------------------------\u001b[0m",
      "\u001b[0;31mImportError\u001b[0m                               Traceback (most recent call last)",
      "Input \u001b[0;32mIn [2]\u001b[0m, in \u001b[0;36m<module>\u001b[0;34m\u001b[0m\n\u001b[0;32m----> 1\u001b[0m \u001b[38;5;28;01mimport\u001b[39;00m \u001b[38;5;21;01mmumps\u001b[39;00m\n",
      "File \u001b[0;32m/opt/conda/lib/python3.9/site-packages/mumps/__init__.py:2\u001b[0m, in \u001b[0;36m<module>\u001b[0;34m\u001b[0m\n\u001b[1;32m      1\u001b[0m \u001b[38;5;28;01mimport\u001b[39;00m \u001b[38;5;21;01mwarnings\u001b[39;00m\n\u001b[0;32m----> 2\u001b[0m \u001b[38;5;28;01mimport\u001b[39;00m \u001b[38;5;21;01mmumps\u001b[39;00m\u001b[38;5;21;01m.\u001b[39;00m\u001b[38;5;21;01m_dmumps\u001b[39;00m\n\u001b[1;32m      4\u001b[0m __all__ \u001b[38;5;241m=\u001b[39m [\n\u001b[1;32m      5\u001b[0m     \u001b[38;5;124m'\u001b[39m\u001b[38;5;124mDMumpsContext\u001b[39m\u001b[38;5;124m'\u001b[39m,\n\u001b[1;32m      6\u001b[0m     \u001b[38;5;124m'\u001b[39m\u001b[38;5;124mspsolve\u001b[39m\u001b[38;5;124m'\u001b[39m,\n\u001b[1;32m      7\u001b[0m     ]\n\u001b[1;32m      9\u001b[0m \u001b[38;5;66;03m########################################################################\u001b[39;00m\n\u001b[1;32m     10\u001b[0m \u001b[38;5;66;03m# Classes\u001b[39;00m\n\u001b[1;32m     11\u001b[0m \u001b[38;5;66;03m########################################################################\u001b[39;00m\n\u001b[1;32m     12\u001b[0m \n\u001b[1;32m     13\u001b[0m \u001b[38;5;66;03m# The main class which is shared between the various datatype variants.\u001b[39;00m\n",
      "\u001b[0;31mImportError\u001b[0m: /opt/conda/lib/python3.9/site-packages/mumps/_dmumps.cpython-39-x86_64-linux-gnu.so: undefined symbol: mpi_reduce_"
     ]
    }
   ],
   "source": [
    "import mumps\n",
    "#from petsc4py import PETsc"
   ]
  },
  {
   "cell_type": "code",
   "execution_count": 13,
   "metadata": {},
   "outputs": [
    {
     "name": "stdout",
     "output_type": "stream",
     "text": [
      "SILEX CODE - computation of a with tet4 elements\n"
     ]
    }
   ],
   "source": [
    "print (\"SILEX CODE - computation of a with tet4 elements\")\n",
    "#############################################################################"
   ]
  },
  {
   "cell_type": "code",
   "execution_count": 14,
   "metadata": {},
   "outputs": [],
   "source": [
    "tic = time.process_time()\n"
   ]
  },
  {
   "cell_type": "markdown",
   "metadata": {},
   "source": [
    "#############################################################################\n",
    "#      USER PART: Import mesh, boundary conditions and material\n",
    "#############################################################################"
   ]
  },
  {
   "cell_type": "markdown",
   "metadata": {},
   "source": [
    "Input mesh: define the name of the mesh file (*.msh)"
   ]
  },
  {
   "cell_type": "code",
   "execution_count": 15,
   "metadata": {},
   "outputs": [],
   "source": [
    "MeshFileName='piston-tet4'"
   ]
  },
  {
   "cell_type": "markdown",
   "metadata": {},
   "source": [
    "Output result file: define the name of the result file (*.msh)"
   ]
  },
  {
   "cell_type": "code",
   "execution_count": 16,
   "metadata": {},
   "outputs": [],
   "source": [
    "ResultsFileName='Results_piston_tet4'"
   ]
  },
  {
   "cell_type": "markdown",
   "metadata": {},
   "source": [
    "choose the element type"
   ]
  },
  {
   "cell_type": "code",
   "execution_count": 17,
   "metadata": {},
   "outputs": [],
   "source": [
    "eltype=4"
   ]
  },
  {
   "cell_type": "markdown",
   "metadata": {},
   "source": [
    "choose geometry dimension"
   ]
  },
  {
   "cell_type": "code",
   "execution_count": 18,
   "metadata": {},
   "outputs": [],
   "source": [
    "ndim=3"
   ]
  },
  {
   "cell_type": "markdown",
   "metadata": {},
   "source": [
    "choose the results in the results file"
   ]
  },
  {
   "cell_type": "code",
   "execution_count": 19,
   "metadata": {},
   "outputs": [],
   "source": [
    "flag_write_fields=0"
   ]
  },
  {
   "cell_type": "markdown",
   "metadata": {},
   "source": [
    "read the mesh from gmsh"
   ]
  },
  {
   "cell_type": "code",
   "execution_count": 20,
   "metadata": {},
   "outputs": [],
   "source": [
    "nodes=silex_lib_gmsh.ReadGmshNodes(MeshFileName+'.msh',ndim)\n",
    "elements,Idnodes=silex_lib_gmsh.ReadGmshElements(MeshFileName+'.msh',eltype,5)"
   ]
  },
  {
   "cell_type": "markdown",
   "metadata": {},
   "source": [
    "read surfaces where to impose boundary conditions"
   ]
  },
  {
   "cell_type": "code",
   "execution_count": 21,
   "metadata": {},
   "outputs": [],
   "source": [
    "elementsS1,IdnodeS1=silex_lib_gmsh.ReadGmshElements(MeshFileName+'.msh',2,1)\n",
    "elementsS2,IdnodeS2=silex_lib_gmsh.ReadGmshElements(MeshFileName+'.msh',2,2)\n",
    "elementsS3,IdnodeS3=silex_lib_gmsh.ReadGmshElements(MeshFileName+'.msh',2,3)\n",
    "elementsS4,IdnodeS4=silex_lib_gmsh.ReadGmshElements(MeshFileName+'.msh',2,4)"
   ]
  },
  {
   "cell_type": "markdown",
   "metadata": {},
   "source": [
    "write the surface mesh in a gmsh-format file to verify if its correct<br>\n",
    "ilex_lib_gmsh.WriteResults(ResultsFileName+'Volum',nodes,elements,4)<br>\n",
    "ilex_lib_gmsh.WriteResults(ResultsFileName+'surf1',nodes,elementsS1,2)<br>\n",
    "ilex_lib_gmsh.WriteResults(ResultsFileName+'surf2',nodes,elementsS2,2)<br>\n",
    "ilex_lib_gmsh.WriteResults(ResultsFileName+'surf3',nodes,elementsS3,2)<br>\n",
    "ilex_lib_gmsh.WriteResults(ResultsFileName+'surf4',nodes,elementsS4,2)"
   ]
  },
  {
   "cell_type": "markdown",
   "metadata": {},
   "source": [
    "Define material"
   ]
  },
  {
   "cell_type": "code",
   "execution_count": 22,
   "metadata": {},
   "outputs": [],
   "source": [
    "Young  = 200000.0\n",
    "nu     = 0.3"
   ]
  },
  {
   "cell_type": "markdown",
   "metadata": {},
   "source": [
    "Boundary conditions"
   ]
  },
  {
   "cell_type": "code",
   "execution_count": 23,
   "metadata": {},
   "outputs": [],
   "source": [
    "IdNodesFixed_x=IdnodeS3\n",
    "IdNodesFixed_y=IdnodeS1\n",
    "IdNodesFixed_z=IdnodeS2"
   ]
  },
  {
   "cell_type": "markdown",
   "metadata": {},
   "source": [
    "compute external forces from pressure"
   ]
  },
  {
   "cell_type": "code",
   "execution_count": 24,
   "metadata": {},
   "outputs": [],
   "source": [
    "press = -10 #MPa\n",
    "# give the direction of the surfacic load:\n",
    "#          if [0.0,0.0,0.0] then the local normal to the surface is used\n",
    "#          otherwise, the direction is normalized to 1\n",
    "direction = [0.0,0.0,0.0]\n",
    "F = silex_lib_elt.forceonsurface(nodes,elementsS4,press,direction)"
   ]
  },
  {
   "cell_type": "code",
   "execution_count": 26,
   "metadata": {},
   "outputs": [
    {
     "name": "stdout",
     "output_type": "stream",
     "text": [
      "Time for the user part: 0.3851462830000001\n"
     ]
    }
   ],
   "source": [
    "toc = time.process_time()\n",
    "print (\"Time for the user part:\",toc-tic)"
   ]
  },
  {
   "cell_type": "markdown",
   "metadata": {},
   "source": [
    "###########################################################################<br>\n",
    "     EXPERT PART<br>\n",
    "###########################################################################<br>\n",
    "     initialisations<br>\n",
    "###########################################################################<br>\n",
    "get number of nodes, dof and elements from the mesh"
   ]
  },
  {
   "cell_type": "code",
   "execution_count": 27,
   "metadata": {},
   "outputs": [
    {
     "name": "stdout",
     "output_type": "stream",
     "text": [
      "Number of nodes: 8632\n",
      "Number of elements: 36902\n"
     ]
    }
   ],
   "source": [
    "nnodes = nodes.shape[0]\n",
    "ndof   = nnodes*ndim\n",
    "nelem  = elements.shape[0]\n",
    "print (\"Number of nodes:\",nnodes)\n",
    "print (\"Number of elements:\",nelem)"
   ]
  },
  {
   "cell_type": "markdown",
   "metadata": {},
   "source": [
    "define fixed dof"
   ]
  },
  {
   "cell_type": "code",
   "execution_count": 28,
   "metadata": {},
   "outputs": [
    {
     "name": "stderr",
     "output_type": "stream",
     "text": [
      "/tmp/ipykernel_24/3193242712.py:1: DeprecationWarning: scipy.hstack is deprecated and will be removed in SciPy 2.0.0, use numpy.hstack instead\n",
      "  Fixed_Dofs = scipy.hstack([(IdNodesFixed_x-1)*3,(IdNodesFixed_y-1)*3+1,(IdNodesFixed_z-1)*3+2])\n"
     ]
    }
   ],
   "source": [
    "Fixed_Dofs = scipy.hstack([(IdNodesFixed_x-1)*3,(IdNodesFixed_y-1)*3+1,(IdNodesFixed_z-1)*3+2])"
   ]
  },
  {
   "cell_type": "markdown",
   "metadata": {},
   "source": [
    "define free dof"
   ]
  },
  {
   "cell_type": "code",
   "execution_count": 29,
   "metadata": {},
   "outputs": [
    {
     "name": "stderr",
     "output_type": "stream",
     "text": [
      "/tmp/ipykernel_24/1426069751.py:1: DeprecationWarning: scipy.setdiff1d is deprecated and will be removed in SciPy 2.0.0, use numpy.setdiff1d instead\n",
      "  SolvedDofs = scipy.setdiff1d(range(ndof),Fixed_Dofs)\n"
     ]
    }
   ],
   "source": [
    "SolvedDofs = scipy.setdiff1d(range(ndof),Fixed_Dofs)"
   ]
  },
  {
   "cell_type": "markdown",
   "metadata": {},
   "source": [
    "initialize displacement vector"
   ]
  },
  {
   "cell_type": "code",
   "execution_count": 30,
   "metadata": {},
   "outputs": [
    {
     "name": "stderr",
     "output_type": "stream",
     "text": [
      "/tmp/ipykernel_24/1673119538.py:1: DeprecationWarning: scipy.zeros is deprecated and will be removed in SciPy 2.0.0, use numpy.zeros instead\n",
      "  Q=scipy.zeros(ndof)\n"
     ]
    }
   ],
   "source": [
    "Q=scipy.zeros(ndof)"
   ]
  },
  {
   "cell_type": "markdown",
   "metadata": {},
   "source": [
    "###########################################################################<br>\n",
    "     compute stiffness matrix<br>\n",
    "###########################################################################"
   ]
  },
  {
   "cell_type": "code",
   "execution_count": 31,
   "metadata": {},
   "outputs": [],
   "source": [
    "tic0 = time.process_time()\n",
    "tic = time.process_time()\n",
    "Ik,Jk,Vk=silex_lib_elt.stiffnessmatrix(nodes,elements,[Young,nu])\n",
    "toc = time.process_time()"
   ]
  },
  {
   "cell_type": "code",
   "execution_count": 32,
   "metadata": {},
   "outputs": [
    {
     "name": "stdout",
     "output_type": "stream",
     "text": [
      "Time to compute the stiffness matrix: 2.847690774\n"
     ]
    }
   ],
   "source": [
    "K=scipy.sparse.csr_matrix( (Vk,(Ik,Jk)), shape=(ndof,ndof) ,dtype=float)\n",
    "print (\"Time to compute the stiffness matrix:\",toc-tic)"
   ]
  },
  {
   "cell_type": "markdown",
   "metadata": {},
   "source": [
    "###########################################################################<br>\n",
    "      Solve the problem<br>\n",
    "###########################################################################"
   ]
  },
  {
   "cell_type": "code",
   "execution_count": 35,
   "metadata": {},
   "outputs": [
    {
     "name": "stdout",
     "output_type": "stream",
     "text": [
      "2.15 s ± 100 ms per loop (mean ± std. dev. of 7 runs, 1 loop each)\n",
      "Time to solve the problem: 138.64462278500002\n"
     ]
    }
   ],
   "source": [
    "tic = time.process_time()\n",
    "%timeit Q[SolvedDofs] = scipy.sparse.linalg.spsolve(K[SolvedDofs,:][:,SolvedDofs],F[SolvedDofs])\n",
    "# install mumps to improve the computational time\n",
    "# import mumps\n",
    "#Q[SolvedDofs] = mumps.spsolve(K[SolvedDofs,:][:,SolvedDofs],F[SolvedDofs])\n",
    "toc = time.process_time()\n",
    "print (\"Time to solve the problem:\",toc-tic)"
   ]
  },
  {
   "cell_type": "markdown",
   "metadata": {},
   "source": [
    "###########################################################################<br>\n",
    "      compute smooth stress and error in elements<br>\n",
    "###########################################################################"
   ]
  },
  {
   "cell_type": "code",
   "execution_count": null,
   "metadata": {},
   "outputs": [],
   "source": [
    "tic = time.process_time()"
   ]
  },
  {
   "cell_type": "code",
   "execution_count": null,
   "metadata": {},
   "outputs": [],
   "source": [
    "SigmaElem,SigmaNodes,EpsilonElem,EpsilonNodes,ErrorElem,ErrorGlobal=silex_lib_elt.compute_stress_strain_error(nodes,elements,[Young,nu],Q)"
   ]
  },
  {
   "cell_type": "code",
   "execution_count": null,
   "metadata": {},
   "outputs": [],
   "source": [
    "toc = time.process_time()\n",
    "print (\"Time to compute stress and error:\",toc-tic)\n",
    "print (\"The global error is:\",ErrorGlobal)\n",
    "print (\"Total time for the computational part:\",toc-tic0)"
   ]
  },
  {
   "cell_type": "markdown",
   "metadata": {},
   "source": [
    "###########################################################################<br>\n",
    "        Write results to gmsh format<br>\n",
    "###########################################################################"
   ]
  },
  {
   "cell_type": "code",
   "execution_count": null,
   "metadata": {},
   "outputs": [],
   "source": [
    "tic = time.process_time()"
   ]
  },
  {
   "cell_type": "markdown",
   "metadata": {},
   "source": [
    "displacement written on 3 columns:"
   ]
  },
  {
   "cell_type": "code",
   "execution_count": null,
   "metadata": {},
   "outputs": [],
   "source": [
    "disp=scipy.zeros((nnodes,ndim))\n",
    "disp[range(nnodes),0]=Q[list(range(0,ndof,3))]\n",
    "disp[range(nnodes),1]=Q[list(range(1,ndof,3))]\n",
    "disp[range(nnodes),2]=Q[list(range(2,ndof,3))]"
   ]
  },
  {
   "cell_type": "markdown",
   "metadata": {},
   "source": [
    "external load written on 3 columns:"
   ]
  },
  {
   "cell_type": "code",
   "execution_count": null,
   "metadata": {},
   "outputs": [],
   "source": [
    "load=scipy.zeros((nnodes,ndim))\n",
    "load[range(nnodes),0]=F[list(range(0,ndof,3))]\n",
    "load[range(nnodes),1]=F[list(range(1,ndof,3))]\n",
    "load[range(nnodes),2]=F[list(range(2,ndof,3))]"
   ]
  },
  {
   "cell_type": "code",
   "execution_count": null,
   "metadata": {},
   "outputs": [],
   "source": [
    "if flag_write_fields==0:\n",
    "    fields_to_write=[ [disp,'nodal',ndim,'displacement'],\n",
    "                      [SigmaElem[range(nelem),[6]],'elemental',1,'Sigma V.M.'],\n",
    "                      [SigmaNodes[range(nnodes),[6]],'nodal',1,'Smooth Sigma V.M.'],\n",
    "                      [ErrorElem,'elemental',1,'error'],\n",
    "                      ]"
   ]
  },
  {
   "cell_type": "code",
   "execution_count": null,
   "metadata": {},
   "outputs": [],
   "source": [
    "if flag_write_fields==1:\n",
    "    fields_to_write=[ [disp,'nodal',ndim,'displacement'],\n",
    "                      [load,'nodal',ndim,'Force'],\n",
    "                      [SigmaElem[range(nelem),[0]],'elemental',1,'Sigma 11'],\n",
    "                      [SigmaElem[range(nelem),[1]],'elemental',1,'Sigma 22'],\n",
    "                      [SigmaElem[range(nelem),[2]],'elemental',1,'Sigma 33'],\n",
    "                      [SigmaElem[range(nelem),[3]],'elemental',1,'Sigma 23'],\n",
    "                      [SigmaElem[range(nelem),[4]],'elemental',1,'Sigma 13'],\n",
    "                      [SigmaElem[range(nelem),[5]],'elemental',1,'Sigma 12'],\n",
    "                      [SigmaElem[range(nelem),[6]],'elemental',1,'Sigma V.M.'],\n",
    "                      [SigmaNodes[range(nnodes),[0]],'nodal',1,'Smooth Sigma 11'],\n",
    "                      [SigmaNodes[range(nnodes),[1]],'nodal',1,'Smooth Sigma 22'],\n",
    "                      [SigmaNodes[range(nnodes),[2]],'nodal',1,'Smooth Sigma 33'],\n",
    "                      [SigmaNodes[range(nnodes),[3]],'nodal',1,'Smooth Sigma 23'],\n",
    "                      [SigmaNodes[range(nnodes),[4]],'nodal',1,'Smooth Sigma 13'],\n",
    "                      [SigmaNodes[range(nnodes),[5]],'nodal',1,'Smooth Sigma 12'],\n",
    "                      [SigmaNodes[range(nnodes),[6]],'nodal',1,'Smooth Sigma V.M.'],\n",
    "                      [EpsilonElem[range(nelem),[0]],'elemental',1,'Epsilon 11'],\n",
    "                      [EpsilonElem[range(nelem),[1]],'elemental',1,'Epsilon 22'],\n",
    "                      [EpsilonElem[range(nelem),[2]],'elemental',1,'Epsilon 33'],\n",
    "                      [EpsilonElem[range(nelem),[3]]/2.0,'elemental',1,'Epsilon 23'],\n",
    "                      [EpsilonElem[range(nelem),[4]]/2.0,'elemental',1,'Epsilon 13'],\n",
    "                      [EpsilonElem[range(nelem),[5]]/2.0,'elemental',1,'Epsilon 12'],\n",
    "                      [EpsilonNodes[range(nnodes),[0]],'nodal',1,'Smooth Epsilon 11'],\n",
    "                      [EpsilonNodes[range(nnodes),[1]],'nodal',1,'Smooth Epsilon 22'],\n",
    "                      [EpsilonNodes[range(nnodes),[2]],'nodal',1,'Smooth Epsilon 33'],\n",
    "                      [EpsilonNodes[range(nnodes),[3]]/2.0,'nodal',1,'Smooth Epsilon 23'],\n",
    "                      [EpsilonNodes[range(nnodes),[4]]/2.0,'nodal',1,'Smooth Epsilon 13'],\n",
    "                      [EpsilonNodes[range(nnodes),[5]]/2.0,'nodal',1,'Smooth Epsilon 12'],\n",
    "                      [ErrorElem,'elemental',1,'error'],\n",
    "                      ]"
   ]
  },
  {
   "cell_type": "markdown",
   "metadata": {},
   "source": [
    "write the mesh and the results in a gmsh-format file"
   ]
  },
  {
   "cell_type": "code",
   "execution_count": null,
   "metadata": {},
   "outputs": [],
   "source": [
    "silex_lib_gmsh.WriteResults(ResultsFileName,nodes,elements,eltype,fields_to_write)"
   ]
  },
  {
   "cell_type": "code",
   "execution_count": null,
   "metadata": {},
   "outputs": [],
   "source": [
    "toc = time.process_time()\n",
    "print (\"Time to write results:\",toc-tic)\n",
    "print (\"----- END -----\")"
   ]
  }
 ],
 "metadata": {
  "kernelspec": {
   "display_name": "Python 3 (ipykernel)",
   "language": "python",
   "name": "python3"
  },
  "language_info": {
   "codemirror_mode": {
    "name": "ipython",
    "version": 3
   },
   "file_extension": ".py",
   "mimetype": "text/x-python",
   "name": "python",
   "nbconvert_exporter": "python",
   "pygments_lexer": "ipython3",
   "version": "3.9.10"
  }
 },
 "nbformat": 4,
 "nbformat_minor": 4
}
