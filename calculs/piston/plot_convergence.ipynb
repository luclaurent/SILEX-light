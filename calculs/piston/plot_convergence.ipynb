{
 "cells": [
  {
   "cell_type": "code",
   "execution_count": null,
   "metadata": {},
   "outputs": [],
   "source": [
    "import numpy\n",
    "import pylab"
   ]
  },
  {
   "cell_type": "code",
   "execution_count": null,
   "metadata": {},
   "outputs": [],
   "source": [
    "h = numpy.array([5.0,\n",
    "                 3.0\n",
    "                 ])"
   ]
  },
  {
   "cell_type": "code",
   "execution_count": null,
   "metadata": {},
   "outputs": [],
   "source": [
    "ComputationalTime = numpy.array([???,\n",
    "                                 ???\n",
    "                                 ])"
   ]
  },
  {
   "cell_type": "code",
   "execution_count": null,
   "metadata": {},
   "outputs": [],
   "source": [
    "nbnodes= numpy.array([???,\n",
    "                ???\n",
    "                ])"
   ]
  },
  {
   "cell_type": "code",
   "execution_count": null,
   "metadata": {},
   "outputs": [],
   "source": [
    "nbelem = numpy.array([???,\n",
    "                      ???\n",
    "                      ])"
   ]
  },
  {
   "cell_type": "code",
   "execution_count": null,
   "metadata": {},
   "outputs": [],
   "source": [
    "error = numpy.array([?????,\n",
    "                     ?????\n",
    "                     ])"
   ]
  },
  {
   "cell_type": "code",
   "execution_count": null,
   "metadata": {},
   "outputs": [],
   "source": [
    "MaxDisp=numpy.array([????,\n",
    "                     ????\n",
    "\t             ])"
   ]
  },
  {
   "cell_type": "code",
   "execution_count": null,
   "metadata": {},
   "outputs": [],
   "source": [
    "VMmaxi=numpy.array([???,\n",
    "                    ???\n",
    "                    ])"
   ]
  },
  {
   "cell_type": "code",
   "execution_count": null,
   "metadata": {},
   "outputs": [],
   "source": [
    "VMmaxiSmooth=numpy.array([???,\n",
    "                          ???\n",
    "                          ])"
   ]
  },
  {
   "cell_type": "code",
   "execution_count": null,
   "metadata": {},
   "outputs": [],
   "source": [
    "pylab.figure(1)\n",
    "pylab.plot(nbnodes,scipy.log10(MaxDisp))\n",
    "pylab.scatter(nbnodes,scipy.log10(MaxDisp))\n",
    "pylab.xlabel('Nb nodes')\n",
    "pylab.ylabel('Disp. Maxi')\n",
    "pylab.grid('on')"
   ]
  },
  {
   "cell_type": "code",
   "execution_count": null,
   "metadata": {},
   "outputs": [],
   "source": [
    "pylab.figure(2)\n",
    "pylab.plot(nbnodes,VMmaxi,label='VM')\n",
    "pylab.plot(nbnodes,VMmaxiSmooth,label='VM Smooth')\n",
    "pylab.xlabel('Nb nodes')\n",
    "pylab.ylabel('V.M. Maxi')\n",
    "pylab.legend()\n",
    "pylab.scatter(nbnodes,VMmaxi)\n",
    "pylab.scatter(nbnodes,VMmaxiSmooth)\n",
    "pylab.grid('on')"
   ]
  },
  {
   "cell_type": "code",
   "execution_count": null,
   "metadata": {},
   "outputs": [],
   "source": [
    "pylab.figure(3)\n",
    "pylab.plot(scipy.log10(1.0/nbnodes),scipy.log10(error))\n",
    "pylab.scatter(scipy.log10(1.0/nbnodes),scipy.log10(error))\n",
    "pylab.xlabel('Average elemental length (log10)')\n",
    "pylab.ylabel('Global error (log10)')\n",
    "pylab.title('Global error convergence')\n",
    "pylab.grid('on')"
   ]
  },
  {
   "cell_type": "code",
   "execution_count": null,
   "metadata": {},
   "outputs": [],
   "source": [
    "pylab.figure(4)\n",
    "pylab.plot(scipy.log10(nbnodes),scipy.log10(ComputationalTime))\n",
    "pylab.scatter(scipy.log10(nbnodes),scipy.log10(ComputationalTime))\n",
    "pylab.xlabel('Nb nodes (log10)')\n",
    "pylab.ylabel('Computational time (log10)')\n",
    "pylab.grid('on')"
   ]
  },
  {
   "cell_type": "code",
   "execution_count": null,
   "metadata": {},
   "outputs": [],
   "source": [
    "pylab.show()"
   ]
  }
 ],
 "metadata": {
  "kernelspec": {
   "display_name": "Python 3 (ipykernel)",
   "language": "python",
   "name": "python3"
  },
  "language_info": {
   "codemirror_mode": {
    "name": "ipython",
    "version": 3
   },
   "file_extension": ".py",
   "mimetype": "text/x-python",
   "name": "python",
   "nbconvert_exporter": "python",
   "pygments_lexer": "ipython3",
   "version": "3.9.7"
  }
 },
 "nbformat": 4,
 "nbformat_minor": 2
}
